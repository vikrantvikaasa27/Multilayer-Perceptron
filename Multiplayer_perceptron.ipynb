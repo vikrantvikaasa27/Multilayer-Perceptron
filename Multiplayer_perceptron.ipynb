{
  "nbformat": 4,
  "nbformat_minor": 0,
  "metadata": {
    "colab": {
      "provenance": []
    },
    "kernelspec": {
      "name": "python3",
      "display_name": "Python 3"
    },
    "language_info": {
      "name": "python"
    }
  },
  "cells": [
    {
      "cell_type": "code",
      "execution_count": null,
      "metadata": {
        "id": "t2wJz5ztW5-L"
      },
      "outputs": [],
      "source": [
        "import numpy as np\n",
        "import tensorflow as tf\n",
        "from tensorflow.keras.models import Sequential\n",
        "from tensorflow.keras.layers import Dense"
      ]
    },
    {
      "cell_type": "code",
      "source": [
        "X = np.random.rand(1000, 10)\n",
        "Y = np.random.randint(0,2, size=(1000,1))\n"
      ],
      "metadata": {
        "id": "W9Qy3gIXZ8zz"
      },
      "execution_count": 152,
      "outputs": []
    },
    {
      "cell_type": "code",
      "source": [
        "model = tf.keras.models.Sequential([\n",
        "        tf.keras.layers.Dense(64, activation='relu', input_shape=(10,)),\n",
        "        tf.keras.layers.Dense(1, activation='softmax')])"
      ],
      "metadata": {
        "id": "ocSbezcYaNQI"
      },
      "execution_count": 153,
      "outputs": []
    },
    {
      "cell_type": "code",
      "source": [
        "model.compile(loss='categorical_crossentropy', optimizer='adam', metrics=['accuracy'])"
      ],
      "metadata": {
        "id": "6-mRzwEGd52s"
      },
      "execution_count": 154,
      "outputs": []
    },
    {
      "cell_type": "code",
      "source": [
        "\n",
        "\n",
        "model.summary()"
      ],
      "metadata": {
        "colab": {
          "base_uri": "https://localhost:8080/"
        },
        "id": "446KkolcfBb1",
        "outputId": "e5ad4987-a051-4bf8-ccd6-39918a2f9fab"
      },
      "execution_count": 155,
      "outputs": [
        {
          "output_type": "stream",
          "name": "stdout",
          "text": [
            "Model: \"sequential_28\"\n",
            "_________________________________________________________________\n",
            " Layer (type)                Output Shape              Param #   \n",
            "=================================================================\n",
            " dense_55 (Dense)            (None, 64)                704       \n",
            "                                                                 \n",
            " dense_56 (Dense)            (None, 1)                 65        \n",
            "                                                                 \n",
            "=================================================================\n",
            "Total params: 769\n",
            "Trainable params: 769\n",
            "Non-trainable params: 0\n",
            "_________________________________________________________________\n"
          ]
        }
      ]
    },
    {
      "cell_type": "code",
      "source": [
        "model.fit(X,Y, epochs=40, batch_size=10)"
      ],
      "metadata": {
        "colab": {
          "base_uri": "https://localhost:8080/"
        },
        "id": "Pcpn1JQmg_oP",
        "outputId": "ce7bfc23-4d54-44b6-ff05-6e1ea64b6c15"
      },
      "execution_count": 156,
      "outputs": [
        {
          "output_type": "stream",
          "name": "stdout",
          "text": [
            "Epoch 1/40\n",
            "100/100 [==============================] - 1s 3ms/step - loss: 0.0000e+00 - accuracy: 0.4980\n",
            "Epoch 2/40\n",
            "100/100 [==============================] - 1s 7ms/step - loss: 0.0000e+00 - accuracy: 0.4980\n",
            "Epoch 3/40\n",
            "100/100 [==============================] - 1s 6ms/step - loss: 0.0000e+00 - accuracy: 0.4980\n",
            "Epoch 4/40\n",
            "100/100 [==============================] - 1s 6ms/step - loss: 0.0000e+00 - accuracy: 0.4980\n",
            "Epoch 5/40\n",
            "100/100 [==============================] - 0s 3ms/step - loss: 0.0000e+00 - accuracy: 0.4980\n",
            "Epoch 6/40\n",
            "100/100 [==============================] - 0s 3ms/step - loss: 0.0000e+00 - accuracy: 0.4980\n",
            "Epoch 7/40\n",
            "100/100 [==============================] - 0s 4ms/step - loss: 0.0000e+00 - accuracy: 0.4980\n",
            "Epoch 8/40\n",
            "100/100 [==============================] - 0s 2ms/step - loss: 0.0000e+00 - accuracy: 0.4980\n",
            "Epoch 9/40\n",
            "100/100 [==============================] - 0s 4ms/step - loss: 0.0000e+00 - accuracy: 0.4980\n",
            "Epoch 10/40\n",
            "100/100 [==============================] - 0s 4ms/step - loss: 0.0000e+00 - accuracy: 0.4980\n",
            "Epoch 11/40\n",
            "100/100 [==============================] - 1s 5ms/step - loss: 0.0000e+00 - accuracy: 0.4980\n",
            "Epoch 12/40\n",
            "100/100 [==============================] - 0s 3ms/step - loss: 0.0000e+00 - accuracy: 0.4980\n",
            "Epoch 13/40\n",
            "100/100 [==============================] - 0s 4ms/step - loss: 0.0000e+00 - accuracy: 0.4980\n",
            "Epoch 14/40\n",
            "100/100 [==============================] - 0s 3ms/step - loss: 0.0000e+00 - accuracy: 0.4980\n",
            "Epoch 15/40\n",
            "100/100 [==============================] - 0s 3ms/step - loss: 0.0000e+00 - accuracy: 0.4980\n",
            "Epoch 16/40\n",
            "100/100 [==============================] - 0s 2ms/step - loss: 0.0000e+00 - accuracy: 0.4980\n",
            "Epoch 17/40\n",
            "100/100 [==============================] - 0s 2ms/step - loss: 0.0000e+00 - accuracy: 0.4980\n",
            "Epoch 18/40\n",
            "100/100 [==============================] - 0s 2ms/step - loss: 0.0000e+00 - accuracy: 0.4980\n",
            "Epoch 19/40\n",
            "100/100 [==============================] - 0s 3ms/step - loss: 0.0000e+00 - accuracy: 0.4980\n",
            "Epoch 20/40\n",
            "100/100 [==============================] - 0s 3ms/step - loss: 0.0000e+00 - accuracy: 0.4980\n",
            "Epoch 21/40\n",
            "100/100 [==============================] - 0s 2ms/step - loss: 0.0000e+00 - accuracy: 0.4980\n",
            "Epoch 22/40\n",
            "100/100 [==============================] - 0s 3ms/step - loss: 0.0000e+00 - accuracy: 0.4980\n",
            "Epoch 23/40\n",
            "100/100 [==============================] - 0s 3ms/step - loss: 0.0000e+00 - accuracy: 0.4980\n",
            "Epoch 24/40\n",
            "100/100 [==============================] - 0s 3ms/step - loss: 0.0000e+00 - accuracy: 0.4980\n",
            "Epoch 25/40\n",
            "100/100 [==============================] - 0s 3ms/step - loss: 0.0000e+00 - accuracy: 0.4980\n",
            "Epoch 26/40\n",
            "100/100 [==============================] - 0s 3ms/step - loss: 0.0000e+00 - accuracy: 0.4980\n",
            "Epoch 27/40\n",
            "100/100 [==============================] - 0s 3ms/step - loss: 0.0000e+00 - accuracy: 0.4980\n",
            "Epoch 28/40\n",
            "100/100 [==============================] - 0s 3ms/step - loss: 0.0000e+00 - accuracy: 0.4980\n",
            "Epoch 29/40\n",
            "100/100 [==============================] - 0s 3ms/step - loss: 0.0000e+00 - accuracy: 0.4980\n",
            "Epoch 30/40\n",
            "100/100 [==============================] - 0s 3ms/step - loss: 0.0000e+00 - accuracy: 0.4980\n",
            "Epoch 31/40\n",
            "100/100 [==============================] - 0s 3ms/step - loss: 0.0000e+00 - accuracy: 0.4980\n",
            "Epoch 32/40\n",
            "100/100 [==============================] - 0s 3ms/step - loss: 0.0000e+00 - accuracy: 0.4980\n",
            "Epoch 33/40\n",
            "100/100 [==============================] - 0s 3ms/step - loss: 0.0000e+00 - accuracy: 0.4980\n",
            "Epoch 34/40\n",
            "100/100 [==============================] - 0s 2ms/step - loss: 0.0000e+00 - accuracy: 0.4980\n",
            "Epoch 35/40\n",
            "100/100 [==============================] - 0s 2ms/step - loss: 0.0000e+00 - accuracy: 0.4980\n",
            "Epoch 36/40\n",
            "100/100 [==============================] - 0s 2ms/step - loss: 0.0000e+00 - accuracy: 0.4980\n",
            "Epoch 37/40\n",
            "100/100 [==============================] - 0s 2ms/step - loss: 0.0000e+00 - accuracy: 0.4980\n",
            "Epoch 38/40\n",
            "100/100 [==============================] - 0s 2ms/step - loss: 0.0000e+00 - accuracy: 0.4980\n",
            "Epoch 39/40\n",
            "100/100 [==============================] - 0s 2ms/step - loss: 0.0000e+00 - accuracy: 0.4980\n",
            "Epoch 40/40\n",
            "100/100 [==============================] - 0s 2ms/step - loss: 0.0000e+00 - accuracy: 0.4980\n"
          ]
        },
        {
          "output_type": "execute_result",
          "data": {
            "text/plain": [
              "<keras.callbacks.History at 0x7fac14e66830>"
            ]
          },
          "metadata": {},
          "execution_count": 156
        }
      ]
    },
    {
      "cell_type": "code",
      "source": [
        "test_loss, test_accuracy = model.evaluate(X, Y)\n",
        "print(f'Test Loss: {test_loss:.4f}')\n",
        "print(f'Test Accuracy: {test_accuracy:.4f}')"
      ],
      "metadata": {
        "id": "pElOpgR7l5BB",
        "colab": {
          "base_uri": "https://localhost:8080/"
        },
        "outputId": "f6f56883-046c-469e-e579-963a413d62db"
      },
      "execution_count": 158,
      "outputs": [
        {
          "output_type": "stream",
          "name": "stdout",
          "text": [
            "32/32 [==============================] - 0s 1ms/step - loss: 0.0000e+00 - accuracy: 0.4980\n",
            "Test Loss: 0.0000\n",
            "Test Accuracy: 0.4980\n"
          ]
        }
      ]
    },
    {
      "cell_type": "code",
      "source": [],
      "metadata": {
        "id": "L_wLOn64oGq-"
      },
      "execution_count": null,
      "outputs": []
    }
  ]
}